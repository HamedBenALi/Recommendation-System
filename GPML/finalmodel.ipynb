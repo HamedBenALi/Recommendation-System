{
 "cells": [
  {
   "cell_type": "code",
   "execution_count": 1,
   "metadata": {},
   "outputs": [],
   "source": [
    "import pandas as pd\n"
   ]
  },
  {
   "cell_type": "code",
   "execution_count": 2,
   "metadata": {},
   "outputs": [],
   "source": [
    "interactions_df = pd.read_csv('dataset/RAW_interactions.csv')\n",
    "recipes_df = pd.read_csv('dataset/RAW_recipes.csv')"
   ]
  },
  {
   "cell_type": "code",
   "execution_count": 3,
   "metadata": {},
   "outputs": [
    {
     "name": "stdout",
     "output_type": "stream",
     "text": [
      "Interactions Data:\n",
      "   user_id  recipe_id        date  rating  \\\n",
      "0    38094      40893   2/17/2003       4   \n",
      "1  1293707      40893  12/21/2011       5   \n",
      "2     8937      44394   12/1/2002       4   \n",
      "3   126440      85009   2/27/2010       5   \n",
      "4    57222      85009   10/1/2011       5   \n",
      "\n",
      "                                              review  \n",
      "0  Great with a salad. Cooked on top of stove for...  \n",
      "1  So simple, so delicious! Great for chilly fall...  \n",
      "2  This worked very well and is EASY.  I used not...  \n",
      "3  I made the Mexican topping and took it to bunk...  \n",
      "4  Made the cheddar bacon topping, adding a sprin...  \n",
      "\n",
      "Interactions Data Columns:\n",
      "Index(['user_id', 'recipe_id', 'date', 'rating', 'review'], dtype='object')\n"
     ]
    }
   ],
   "source": [
    "# Display the first few rows of each dataset\n",
    "print(\"Interactions Data:\")\n",
    "print(interactions_df.head())\n",
    "print(\"\\nInteractions Data Columns:\")\n",
    "print(interactions_df.columns)"
   ]
  },
  {
   "cell_type": "code",
   "execution_count": 4,
   "metadata": {},
   "outputs": [
    {
     "name": "stdout",
     "output_type": "stream",
     "text": [
      "\n",
      "Recipes Data:\n",
      "  arriba   baked winter squash mexican style  137739   55   47892   9/16/2005  \\\n",
      "0                  all in the kitchen  chili   31490   30   26278   6/17/2002   \n",
      "1                         alouette  potatoes  112140  130  196586   2/25/2005   \n",
      "2         amish  tomato ketchup  for canning   59389   45   68585   4/14/2003   \n",
      "3                    apple a day  milk shake   44061  190   41706  10/25/2002   \n",
      "4             backyard style  barbecued ribs   25274   15   21730   4/14/2002   \n",
      "\n",
      "  ['60-minutes-or-less', 'time-to-make', 'course', 'main-ingredient', 'cuisine', 'preparation', 'occasion', 'north-american', 'side-dishes', 'vegetables', 'mexican', 'easy', 'fall', 'holiday-event', 'vegetarian', 'winter', 'dietary', 'christmas', 'seasonal', 'squash']  \\\n",
      "0  ['30-minutes-or-less', 'time-to-make', 'course...                                                                                                                                                                                                                           \n",
      "1  ['time-to-make', 'course', 'preparation', 'mai...                                                                                                                                                                                                                           \n",
      "2  ['60-minutes-or-less', 'time-to-make', 'course...                                                                                                                                                                                                                           \n",
      "3  ['weeknight', 'time-to-make', 'course', 'main-...                                                                                                                                                                                                                           \n",
      "4  ['15-minutes-or-less', 'time-to-make', 'course...                                                                                                                                                                                                                           \n",
      "\n",
      "        [51.5, 0.0, 13.0, 0.0, 2.0, 0.0, 4.0]  11  \\\n",
      "0   [173.4, 18.0, 0.0, 17.0, 22.0, 35.0, 1.0]   9   \n",
      "1  [269.8, 22.0, 32.0, 48.0, 39.0, 27.0, 5.0]   6   \n",
      "2   [368.1, 17.0, 10.0, 2.0, 14.0, 8.0, 20.0]  11   \n",
      "3   [352.9, 1.0, 337.0, 23.0, 3.0, 0.0, 28.0]   5   \n",
      "4    [380.7, 53.0, 7.0, 24.0, 6.0, 24.0, 6.0]   4   \n",
      "\n",
      "  ['make a choice and proceed with recipe', 'depending on size of squash , cut into half or fourths', 'remove seeds', 'for spicy squash , drizzle olive oil or melted butter over each cut squash piece', 'season with mexican seasoning mix ii', 'for sweet squash , drizzle melted honey , butter , grated piloncillo over each cut squash piece', 'season with sweet mexican spice mix', 'bake at 350 degrees , again depending on size , for 40 minutes up to an hour , until a fork can easily pierce the skin', 'be careful not to burn the squash especially if you opt to use sugar or butter', 'if you feel more comfortable , cover the squash with aluminum foil the first half hour , give or take , of baking', 'if desired , season with salt']  \\\n",
      "0  ['preheat oven to 425 degrees f', 'press dough...                                                                                                                                                                                                                                                                                                                                                                                                                                                                                                                                                                                                                                                                                                            \n",
      "1  ['brown ground beef in large pot', 'add choppe...                                                                                                                                                                                                                                                                                                                                                                                                                                                                                                                                                                                                                                                                                                            \n",
      "2  ['place potatoes in a large pot of lightly sal...                                                                                                                                                                                                                                                                                                                                                                                                                                                                                                                                                                                                                                                                                                            \n",
      "3  ['mix all ingredients& boil for 2 1 / 2 hours ...                                                                                                                                                                                                                                                                                                                                                                                                                                                                                                                                                                                                                                                                                                            \n",
      "4  ['toast the fennel seeds and lightly crush the...                                                                                                                                                                                                                                                                                                                                                                                                                                                                                                                                                                                                                                                                                                            \n",
      "\n",
      "  autumn is my favorite time of year to cook! this recipe \\r\\ncan be prepared either spicy or sweet, your choice!\\r\\ntwo of my posted mexican-inspired seasoning mix recipes are offered as suggestions.  \\\n",
      "0  this recipe calls for the crust to be prebaked...                                                                                                                                                       \n",
      "1  this modified version of 'mom's' chili was a h...                                                                                                                                                       \n",
      "2  this is a super easy, great tasting, make ahea...                                                                                                                                                       \n",
      "3  my dh's amish mother raised him on this recipe...                                                                                                                                                       \n",
      "4  my italian mil was thoroughly impressed by my ...                                                                                                                                                       \n",
      "\n",
      "  ['winter squash', 'mexican seasoning', 'mixed spice', 'honey', 'butter', 'olive oil', 'salt']  \\\n",
      "0  ['prepared pizza crust', 'sausage patty', 'egg...                                              \n",
      "1  ['ground beef', 'yellow onions', 'diced tomato...                                              \n",
      "2  ['spreadable cheese with garlic and herbs', 'n...                                              \n",
      "3  ['tomato juice', 'apple cider vinegar', 'sugar...                                              \n",
      "4  ['fennel seeds', 'green olives', 'ripe olives'...                                              \n",
      "\n",
      "    7  \n",
      "0   6  \n",
      "1  13  \n",
      "2  11  \n",
      "3   8  \n",
      "4   9  \n"
     ]
    }
   ],
   "source": [
    "print(\"\\nRecipes Data:\")\n",
    "print(recipes_df.head())"
   ]
  },
  {
   "cell_type": "code",
   "execution_count": 5,
   "metadata": {},
   "outputs": [
    {
     "name": "stdout",
     "output_type": "stream",
     "text": [
      "\n",
      "Recipes Data Columns:\n",
      "Index(['arriba   baked winter squash mexican style', '137739', '55', '47892',\n",
      "       '9/16/2005',\n",
      "       '['60-minutes-or-less', 'time-to-make', 'course', 'main-ingredient', 'cuisine', 'preparation', 'occasion', 'north-american', 'side-dishes', 'vegetables', 'mexican', 'easy', 'fall', 'holiday-event', 'vegetarian', 'winter', 'dietary', 'christmas', 'seasonal', 'squash']',\n",
      "       '[51.5, 0.0, 13.0, 0.0, 2.0, 0.0, 4.0]', '11',\n",
      "       '['make a choice and proceed with recipe', 'depending on size of squash , cut into half or fourths', 'remove seeds', 'for spicy squash , drizzle olive oil or melted butter over each cut squash piece', 'season with mexican seasoning mix ii', 'for sweet squash , drizzle melted honey , butter , grated piloncillo over each cut squash piece', 'season with sweet mexican spice mix', 'bake at 350 degrees , again depending on size , for 40 minutes up to an hour , until a fork can easily pierce the skin', 'be careful not to burn the squash especially if you opt to use sugar or butter', 'if you feel more comfortable , cover the squash with aluminum foil the first half hour , give or take , of baking', 'if desired , season with salt']',\n",
      "       'autumn is my favorite time of year to cook! this recipe \\r\\ncan be prepared either spicy or sweet, your choice!\\r\\ntwo of my posted mexican-inspired seasoning mix recipes are offered as suggestions.',\n",
      "       '['winter squash', 'mexican seasoning', 'mixed spice', 'honey', 'butter', 'olive oil', 'salt']',\n",
      "       '7'],\n",
      "      dtype='object')\n"
     ]
    }
   ],
   "source": [
    "print(\"\\nRecipes Data Columns:\")\n",
    "print(recipes_df.columns)"
   ]
  },
  {
   "cell_type": "code",
   "execution_count": 6,
   "metadata": {},
   "outputs": [],
   "source": [
    "# Load the data again, specifying header=None to prevent the first row from being interpreted as column names\n",
    "recipes_df = pd.read_csv('dataset/RAW_recipes.csv', header=None)"
   ]
  },
  {
   "cell_type": "code",
   "execution_count": 7,
   "metadata": {},
   "outputs": [],
   "source": [
    "# Rename the columns appropriately\n",
    "recipes_df.columns = ['recipe_name', 'recipe_id', 'minutes', 'contributor_id', 'submitted', 'tags', 'nutrition', 'n_steps', 'steps', 'description', 'ingredients', 'n_ingredients']\n"
   ]
  },
  {
   "cell_type": "code",
   "execution_count": 8,
   "metadata": {},
   "outputs": [
    {
     "name": "stdout",
     "output_type": "stream",
     "text": [
      "\n",
      "Recipes Data Columns:\n",
      "Index(['recipe_name', 'recipe_id', 'minutes', 'contributor_id', 'submitted',\n",
      "       'tags', 'nutrition', 'n_steps', 'steps', 'description', 'ingredients',\n",
      "       'n_ingredients'],\n",
      "      dtype='object')\n"
     ]
    }
   ],
   "source": [
    "print(\"\\nRecipes Data Columns:\")\n",
    "print(recipes_df.columns)"
   ]
  },
  {
   "cell_type": "code",
   "execution_count": 9,
   "metadata": {},
   "outputs": [],
   "source": [
    "# Convert the necessary columns to integers\n",
    "recipes_df['recipe_id'] = recipes_df['recipe_id'].astype(int)"
   ]
  },
  {
   "cell_type": "code",
   "execution_count": 10,
   "metadata": {},
   "outputs": [],
   "source": [
    "recipes_df.rename(columns={'id': 'recipe_id'}, inplace=True)"
   ]
  },
  {
   "cell_type": "code",
   "execution_count": 11,
   "metadata": {},
   "outputs": [
    {
     "name": "stdout",
     "output_type": "stream",
     "text": [
      "\n",
      "Missing values in interactions data:\n",
      "user_id      0\n",
      "recipe_id    0\n",
      "date         0\n",
      "rating       0\n",
      "review       1\n",
      "dtype: int64\n",
      "\n",
      "Missing values in recipes data:\n",
      "recipe_name       0\n",
      "recipe_id         0\n",
      "minutes           0\n",
      "contributor_id    0\n",
      "submitted         0\n",
      "tags              0\n",
      "nutrition         0\n",
      "n_steps           0\n",
      "steps             0\n",
      "description       6\n",
      "ingredients       0\n",
      "n_ingredients     0\n",
      "dtype: int64\n"
     ]
    }
   ],
   "source": [
    "# Check for missing values\n",
    "print(\"\\nMissing values in interactions data:\")\n",
    "print(interactions_df.isnull().sum())\n",
    "\n",
    "print(\"\\nMissing values in recipes data:\")\n",
    "print(recipes_df.isnull().sum())"
   ]
  },
  {
   "cell_type": "code",
   "execution_count": 12,
   "metadata": {},
   "outputs": [],
   "source": [
    "# Drop rows with missing values in interactions data\n",
    "interactions_df = interactions_df.dropna()\n",
    "\n",
    "# Drop rows with missing values in recipes data\n",
    "recipes_df = recipes_df.dropna()"
   ]
  },
  {
   "cell_type": "code",
   "execution_count": 13,
   "metadata": {},
   "outputs": [],
   "source": [
    "# Ensure the ID columns are integers\n",
    "interactions_df['user_id'] = interactions_df['user_id'].astype(int)\n",
    "interactions_df['recipe_id'] = interactions_df['recipe_id'].astype(int)\n",
    "recipes_df['recipe_id'] = recipes_df['recipe_id'].astype(int)"
   ]
  },
  {
   "cell_type": "code",
   "execution_count": 14,
   "metadata": {},
   "outputs": [
    {
     "name": "stdout",
     "output_type": "stream",
     "text": [
      "Cleaned Interactions Data:\n",
      "   user_id  recipe_id        date  rating  \\\n",
      "0    38094      40893   2/17/2003       4   \n",
      "1  1293707      40893  12/21/2011       5   \n",
      "2     8937      44394   12/1/2002       4   \n",
      "3   126440      85009   2/27/2010       5   \n",
      "4    57222      85009   10/1/2011       5   \n",
      "\n",
      "                                              review  \n",
      "0  Great with a salad. Cooked on top of stove for...  \n",
      "1  So simple, so delicious! Great for chilly fall...  \n",
      "2  This worked very well and is EASY.  I used not...  \n",
      "3  I made the Mexican topping and took it to bunk...  \n",
      "4  Made the cheddar bacon topping, adding a sprin...  \n",
      "\n",
      "Cleaned Recipes Data:\n",
      "                                  recipe_name  recipe_id  minutes  \\\n",
      "0  arriba   baked winter squash mexican style     137739       55   \n",
      "1                   all in the kitchen  chili      31490       30   \n",
      "2                          alouette  potatoes     112140      130   \n",
      "3          amish  tomato ketchup  for canning      59389       45   \n",
      "4                     apple a day  milk shake      44061      190   \n",
      "\n",
      "   contributor_id   submitted  \\\n",
      "0           47892   9/16/2005   \n",
      "1           26278   6/17/2002   \n",
      "2          196586   2/25/2005   \n",
      "3           68585   4/14/2003   \n",
      "4           41706  10/25/2002   \n",
      "\n",
      "                                                tags  \\\n",
      "0  ['60-minutes-or-less', 'time-to-make', 'course...   \n",
      "1  ['30-minutes-or-less', 'time-to-make', 'course...   \n",
      "2  ['time-to-make', 'course', 'preparation', 'mai...   \n",
      "3  ['60-minutes-or-less', 'time-to-make', 'course...   \n",
      "4  ['weeknight', 'time-to-make', 'course', 'main-...   \n",
      "\n",
      "                                    nutrition  n_steps  \\\n",
      "0       [51.5, 0.0, 13.0, 0.0, 2.0, 0.0, 4.0]       11   \n",
      "1   [173.4, 18.0, 0.0, 17.0, 22.0, 35.0, 1.0]        9   \n",
      "2  [269.8, 22.0, 32.0, 48.0, 39.0, 27.0, 5.0]        6   \n",
      "3   [368.1, 17.0, 10.0, 2.0, 14.0, 8.0, 20.0]       11   \n",
      "4   [352.9, 1.0, 337.0, 23.0, 3.0, 0.0, 28.0]        5   \n",
      "\n",
      "                                               steps  \\\n",
      "0  ['make a choice and proceed with recipe', 'dep...   \n",
      "1  ['preheat oven to 425 degrees f', 'press dough...   \n",
      "2  ['brown ground beef in large pot', 'add choppe...   \n",
      "3  ['place potatoes in a large pot of lightly sal...   \n",
      "4  ['mix all ingredients& boil for 2 1 / 2 hours ...   \n",
      "\n",
      "                                         description  \\\n",
      "0  autumn is my favorite time of year to cook! th...   \n",
      "1  this recipe calls for the crust to be prebaked...   \n",
      "2  this modified version of 'mom's' chili was a h...   \n",
      "3  this is a super easy, great tasting, make ahea...   \n",
      "4  my dh's amish mother raised him on this recipe...   \n",
      "\n",
      "                                         ingredients  n_ingredients  \n",
      "0  ['winter squash', 'mexican seasoning', 'mixed ...              7  \n",
      "1  ['prepared pizza crust', 'sausage patty', 'egg...              6  \n",
      "2  ['ground beef', 'yellow onions', 'diced tomato...             13  \n",
      "3  ['spreadable cheese with garlic and herbs', 'n...             11  \n",
      "4  ['tomato juice', 'apple cider vinegar', 'sugar...              8  \n"
     ]
    }
   ],
   "source": [
    "# Display the cleaned data\n",
    "print(\"Cleaned Interactions Data:\")\n",
    "print(interactions_df.head())\n",
    "\n",
    "print(\"\\nCleaned Recipes Data:\")\n",
    "print(recipes_df.head())"
   ]
  },
  {
   "cell_type": "code",
   "execution_count": 15,
   "metadata": {},
   "outputs": [],
   "source": [
    "from surprise import Dataset, Reader, SVD\n",
    "from surprise.model_selection import train_test_split"
   ]
  },
  {
   "cell_type": "code",
   "execution_count": 16,
   "metadata": {},
   "outputs": [],
   "source": [
    "# Prepare the data for the surprise library\n",
    "reader = Reader(rating_scale=(1, 5))\n",
    "data = Dataset.load_from_df(interactions_df[['user_id', 'recipe_id', 'rating']], reader)"
   ]
  },
  {
   "cell_type": "code",
   "execution_count": 17,
   "metadata": {},
   "outputs": [],
   "source": [
    "# Split the data into training and test sets\n",
    "trainset, testset = train_test_split(data, test_size=0.2)"
   ]
  },
  {
   "cell_type": "code",
   "execution_count": 18,
   "metadata": {},
   "outputs": [],
   "source": [
    "# Use the SVD algorithm for collaborative filtering\n",
    "algo = SVD()"
   ]
  },
  {
   "cell_type": "code",
   "execution_count": 19,
   "metadata": {},
   "outputs": [
    {
     "data": {
      "text/plain": [
       "<surprise.prediction_algorithms.matrix_factorization.SVD at 0x1d1bcafc1f0>"
      ]
     },
     "execution_count": 19,
     "metadata": {},
     "output_type": "execute_result"
    }
   ],
   "source": [
    "# Train the algorithm on the training set\n",
    "algo.fit(trainset)"
   ]
  },
  {
   "cell_type": "code",
   "execution_count": 20,
   "metadata": {},
   "outputs": [],
   "source": [
    "# Predict ratings for the test set\n",
    "predictions = algo.test(testset)"
   ]
  },
  {
   "cell_type": "code",
   "execution_count": 21,
   "metadata": {},
   "outputs": [],
   "source": [
    "# Function to get top N recommendations for a user\n",
    "def get_top_n_recommendations(user_id, n=10):\n",
    "    user_interactions = interactions_df[interactions_df['user_id'] == user_id]\n",
    "    user_rated_recipes = user_interactions['recipe_id'].tolist()\n",
    "    \n",
    "    all_recipes = recipes_df['recipe_id'].tolist()\n",
    "    unrated_recipes = [recipe for recipe in all_recipes if recipe not in user_rated_recipes]\n",
    "    \n",
    "    predicted_ratings = []\n",
    "    for recipe_id in unrated_recipes:\n",
    "        predicted_rating = algo.predict(user_id, recipe_id).est\n",
    "        predicted_ratings.append((recipe_id, predicted_rating))\n",
    "    \n",
    "    top_n_recommendations = sorted(predicted_ratings, key=lambda x: x[1], reverse=True)[:n]\n",
    "    \n",
    "    return [recipe_id for recipe_id, rating in top_n_recommendations]"
   ]
  },
  {
   "cell_type": "code",
   "execution_count": 22,
   "metadata": {},
   "outputs": [
    {
     "name": "stdout",
     "output_type": "stream",
     "text": [
      "Top N Recommendations for User 1: [232044, 137739, 31490, 112140, 59389, 44061, 25274, 67888, 75452, 109439]\n"
     ]
    }
   ],
   "source": [
    "# Example\n",
    "user_id = 1  # Replace with a valid user ID from the interactions data\n",
    "top_n = get_top_n_recommendations(user_id, n=10)\n",
    "print(\"Top N Recommendations for User {}: {}\".format(user_id, top_n))"
   ]
  }
 ],
 "metadata": {
  "kernelspec": {
   "display_name": "Python 3",
   "language": "python",
   "name": "python3"
  },
  "language_info": {
   "codemirror_mode": {
    "name": "ipython",
    "version": 3
   },
   "file_extension": ".py",
   "mimetype": "text/x-python",
   "name": "python",
   "nbconvert_exporter": "python",
   "pygments_lexer": "ipython3",
   "version": "3.8.10"
  }
 },
 "nbformat": 4,
 "nbformat_minor": 2
}
